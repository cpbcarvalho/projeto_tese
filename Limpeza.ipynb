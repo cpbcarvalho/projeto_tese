{
 "cells": [
  {
   "cell_type": "markdown",
   "id": "6489cee9",
   "metadata": {},
   "source": [
    "# Primeira parte:\n",
    "## Exluir variáveis desnecessárias à pesquisa"
   ]
  },
  {
   "cell_type": "code",
   "execution_count": 1,
   "id": "3265088c",
   "metadata": {},
   "outputs": [],
   "source": [
    "import pandas as pd"
   ]
  },
  {
   "cell_type": "code",
   "execution_count": 2,
   "id": "38ef1d1c",
   "metadata": {},
   "outputs": [],
   "source": [
    "df = pd.read_csv('PENSE2019_MICRODADOS.csv')"
   ]
  },
  {
   "cell_type": "code",
   "execution_count": 3,
   "id": "8a19fd42",
   "metadata": {},
   "outputs": [
    {
     "name": "stdout",
     "output_type": "stream",
     "text": [
      "['REGIAO', 'UF', 'MUNICIPIO_CAP', 'TIPO_MUNIC', 'SITUACAO', 'DEP_ADMIN', 'ESFERA', 'ESCOLA', 'TURMA', 'ALUNO', 'ANO_TURMA', 'B00004', 'B01001A', 'B01003', 'B01004', 'B01005', 'B01002', 'B01021A', 'B01026A1', 'B01026A2', 'B01006', 'B01007', 'B01010A', 'B01014', 'B01015B', 'B01016', 'B01017', 'B01018A', 'B01019A', 'B01020A', 'B01008B', 'B02019A', 'B02017A', 'B02018B', 'B02028', 'B02029', 'B02030', 'B02031', 'B02032', 'B02033', 'B02034', 'B02035', 'B02036', 'B02037', 'B02038', 'B02039', 'B02040', 'B02001', 'B02004B', 'B02010A', 'B02011', 'B02013', 'B02023A', 'B02021A', 'B02020B', 'B02041', 'B02042', 'B03001A1', 'B03002A1', 'B03001A2', 'B03002A2', 'B03003A', 'B03005B', 'B03006B', 'B03007A', 'B03009B', 'B03010B', 'B04001', 'B04002A', 'B04003', 'B04009A', 'B04010', 'B04012', 'B04013', 'B04014', 'B04015', 'B04011A01', 'B04011A02', 'B04011A03', 'B04011A04', 'B04011A05', 'B04011A06', 'B04006B', 'B04005A', 'B04016', 'B05002A', 'B05003A', 'B05007', 'B05009', 'B05004A', 'B05005A', 'B05006B', 'B05011', 'B05010A', 'B06001', 'B06002A', 'B06003B', 'B06004A', 'B06005A', 'B06006A', 'B07001', 'B07002', 'B07004', 'B07006', 'B07007A', 'B07008', 'B07011', 'B07012', 'B07013', 'B07009', 'B12003', 'B12004', 'B12005', 'B12006', 'B12007', 'B12008', 'B08001', 'B08002', 'B08011A', 'B08006A', 'B08014', 'B08007', 'B08012A', 'B08015', 'B08016', 'B08013A', 'B08008A', 'B08009A', 'B08010A', 'B10004A', 'B10005A', 'B10006A', 'B10001B', 'B10002', 'B10003', 'B09006A1', 'B09006A2', 'B09007A', 'B09008', 'B09009', 'B09019', 'B09001', 'B09002', 'B09011A', 'B09004', 'B09005', 'B09012A1', 'B09012A2', 'B09012A3', 'B09013B', 'B09014B', 'B09003A', 'B09010A1', 'B09010A201', 'B09010A202', 'B09010A203', 'B09010A204', 'B09010A205', 'B09010A206', 'B09010A207', 'B09016A1', 'B09017A101', 'B09017A102', 'B09017A103', 'B09017A104', 'B09017A105', 'B09017A106', 'B09016A2', 'B09017A201', 'B09017A202', 'B09017A203', 'B09017A204', 'B09017A205', 'B09017A206', 'B09018', 'B13005', 'B13006', 'B13001', 'B13002A', 'B13003A', 'B13004B', 'B13007A', 'B13009A', 'B13012', 'B11007', 'B11001', 'B11002', 'B11003', 'B11004A', 'B11005', 'B16001A01', 'B16001A02', 'B16001A03', 'B16001A04', 'B16001A05', 'B16001A06', 'B16001A07', 'B16001A08', 'TEMPODESLOC', 'TEMPOEDFIS', 'TEMPOEXTRA', 'TEMPOTOTAL', 'E01P29', 'E01P30A01', 'E01P30A02', 'E01P30A03', 'E01P03A01', 'E01P03A02', 'E01P03A03', 'E01P03A04', 'E01P01', 'E01P05B', 'E01P33A', 'E01P09A', 'E01P10B', 'E01P7301', 'E01P7302', 'E01P7303', 'E01P7304', 'E01P7305', 'E01P7306', 'E01P34', 'E01P35', 'E01P74', 'E01P7501', 'E01P7502', 'E01P7503', 'E01P7504', 'E01P7505', 'E01P7506', 'E01P7507', 'E01P7508', 'E01P76', 'E01P22A', 'E01P18A', 'E01P19A', 'E01P38A', 'E01P39A', 'E01P77', 'E01P11A', 'E01P12B01', 'E01P12B02', 'E01P12B03', 'E01P12B04', 'E01P12B05', 'E01P12B06', 'E01P12B07', 'E01P12B08', 'E01P12B09', 'E01P12B10', 'E01P12B11', 'E01P13A', 'E01P14B01', 'E01P14B02', 'E01P14B03', 'E01P14B04', 'E01P14B05', 'E01P14B06', 'E01P14B07', 'E01P14B08', 'E01P14B09', 'E01P14B10', 'E01P14B11', 'E01P78', 'E01P49', 'E01P49A1', 'E01P49A2', 'E01P51', 'E01P55A', 'E01P56', 'E01P57', 'E01P58A1', 'E01P58A2', 'E01P79', 'E01P80', 'E01P81', 'E01P82', 'E01P83', 'E01P84', 'E01P59A1', 'E01P59A2', 'E01P60', 'E01P61', 'E01P8501', 'E01P8502', 'E01P8503', 'E01P8504', 'E01P8505', 'E01P8506', 'E01P8507', 'E01P8508', 'E01P8509', 'E01P8510', 'E01P8511', 'E01P8512', 'E01P64A', 'E01P65A', 'E01P66A', 'E01P26A', 'E01P27A', 'ESTRATO', 'IND_EXPANSAO', 'PESO_ALUNO_FREQ', 'PESO_INICIAL', 'POSEST', 'TOTAIS_POSEST']\n"
     ]
    }
   ],
   "source": [
    "print(df.columns.tolist())"
   ]
  },
  {
   "cell_type": "code",
   "execution_count": 4,
   "id": "0d41d5d7",
   "metadata": {},
   "outputs": [
    {
     "name": "stdout",
     "output_type": "stream",
     "text": [
      "<class 'pandas.core.frame.DataFrame'>\n",
      "RangeIndex: 165838 entries, 0 to 165837\n",
      "Columns: 306 entries, REGIAO to TOTAIS_POSEST\n",
      "dtypes: float64(296), int64(9), object(1)\n",
      "memory usage: 387.2+ MB\n"
     ]
    }
   ],
   "source": [
    "df.info()"
   ]
  },
  {
   "cell_type": "code",
   "execution_count": 5,
   "id": "267751c2",
   "metadata": {},
   "outputs": [],
   "source": [
    "# Excluindo variáveis: B00004\n",
    "# seção de higiene \n",
    "# seção de opinião sobre o questionário\n",
    "df = df.drop(['B00004', 'B10004A', 'B10005A', 'B10006A', 'B10001B', 'B10002', 'B10003', 'B16001A01',\n",
    "              'B16001A02', 'B16001A03', 'B16001A04', 'B16001A05', 'B16001A06', 'B16001A07', 'B16001A08'], axis = 1)"
   ]
  },
  {
   "cell_type": "code",
   "execution_count": 6,
   "id": "d92f69b0",
   "metadata": {},
   "outputs": [],
   "source": [
    "# Excluindo variáveis: B13009a, B13012\n",
    "df = df.drop(['B13009A', 'B13012'], axis = 1)"
   ]
  },
  {
   "cell_type": "code",
   "execution_count": 7,
   "id": "9e3ef510",
   "metadata": {},
   "outputs": [
    {
     "data": {
      "text/plain": [
       "(165838, 254)"
      ]
     },
     "execution_count": 7,
     "metadata": {},
     "output_type": "execute_result"
    }
   ],
   "source": [
    "# Exluindo variáveis\n",
    "# Referentes às seções de alimentação e higiene do questionário da escola\n",
    "df = df.drop(['E01P77', 'E01P11A', 'E01P12B01', 'E01P12B02', 'E01P12B03', 'E01P12B04',\n",
    "              'E01P12B05', 'E01P12B06', 'E01P12B07', 'E01P12B08', 'E01P12B09', 'E01P12B10', 'E01P12B11',\n",
    "              'E01P13A', 'E01P14B01', 'E01P14B02', 'E01P14B03', 'E01P14B04', 'E01P14B05', 'E01P14B06',\n",
    "              'E01P14B07', 'E01P14B08', 'E01P14B09', 'E01P14B10', 'E01P14B11',\n",
    "              'E01P78', 'E01P49', 'E01P49A1', 'E01P49A2',\n",
    "              'E01P51', 'E01P55A', 'E01P56', 'E01P57', 'E01P58A1', 'E01P58A2'], axis = 1)\n",
    "df.shape"
   ]
  },
  {
   "cell_type": "code",
   "execution_count": 8,
   "id": "233c6c13",
   "metadata": {},
   "outputs": [
    {
     "name": "stdout",
     "output_type": "stream",
     "text": [
      "<class 'pandas.core.frame.DataFrame'>\n",
      "RangeIndex: 165838 entries, 0 to 165837\n",
      "Columns: 254 entries, REGIAO to TOTAIS_POSEST\n",
      "dtypes: float64(244), int64(9), object(1)\n",
      "memory usage: 321.4+ MB\n"
     ]
    }
   ],
   "source": [
    "df.info()"
   ]
  },
  {
   "cell_type": "markdown",
   "id": "7dda52e7",
   "metadata": {},
   "source": [
    "# Segunda parte - Novas variáveis"
   ]
  },
  {
   "cell_type": "markdown",
   "id": "f2780573",
   "metadata": {},
   "source": [
    "## Seção B1 - informações gerais"
   ]
  },
  {
   "cell_type": "code",
   "execution_count": 9,
   "id": "6581b3b8",
   "metadata": {},
   "outputs": [
    {
     "data": {
      "text/html": [
       "<div>\n",
       "<style scoped>\n",
       "    .dataframe tbody tr th:only-of-type {\n",
       "        vertical-align: middle;\n",
       "    }\n",
       "\n",
       "    .dataframe tbody tr th {\n",
       "        vertical-align: top;\n",
       "    }\n",
       "\n",
       "    .dataframe thead th {\n",
       "        text-align: right;\n",
       "    }\n",
       "</style>\n",
       "<table border=\"1\" class=\"dataframe\">\n",
       "  <thead>\n",
       "    <tr style=\"text-align: right;\">\n",
       "      <th></th>\n",
       "      <th>B01001A</th>\n",
       "      <th>B01003</th>\n",
       "      <th>B01002</th>\n",
       "      <th>B01021A</th>\n",
       "    </tr>\n",
       "  </thead>\n",
       "  <tbody>\n",
       "    <tr>\n",
       "      <th>count</th>\n",
       "      <td>159245.000000</td>\n",
       "      <td>159245.000000</td>\n",
       "      <td>159245.000000</td>\n",
       "      <td>159245.000000</td>\n",
       "    </tr>\n",
       "    <tr>\n",
       "      <th>mean</th>\n",
       "      <td>1.529725</td>\n",
       "      <td>2.228717</td>\n",
       "      <td>2.756137</td>\n",
       "      <td>4.260624</td>\n",
       "    </tr>\n",
       "    <tr>\n",
       "      <th>std</th>\n",
       "      <td>0.637149</td>\n",
       "      <td>0.845897</td>\n",
       "      <td>1.698941</td>\n",
       "      <td>1.678074</td>\n",
       "    </tr>\n",
       "    <tr>\n",
       "      <th>min</th>\n",
       "      <td>1.000000</td>\n",
       "      <td>1.000000</td>\n",
       "      <td>-2.000000</td>\n",
       "      <td>-2.000000</td>\n",
       "    </tr>\n",
       "    <tr>\n",
       "      <th>25%</th>\n",
       "      <td>1.000000</td>\n",
       "      <td>2.000000</td>\n",
       "      <td>1.000000</td>\n",
       "      <td>3.000000</td>\n",
       "    </tr>\n",
       "    <tr>\n",
       "      <th>50%</th>\n",
       "      <td>2.000000</td>\n",
       "      <td>2.000000</td>\n",
       "      <td>3.000000</td>\n",
       "      <td>4.000000</td>\n",
       "    </tr>\n",
       "    <tr>\n",
       "      <th>75%</th>\n",
       "      <td>2.000000</td>\n",
       "      <td>3.000000</td>\n",
       "      <td>4.000000</td>\n",
       "      <td>6.000000</td>\n",
       "    </tr>\n",
       "    <tr>\n",
       "      <th>max</th>\n",
       "      <td>9.000000</td>\n",
       "      <td>9.000000</td>\n",
       "      <td>9.000000</td>\n",
       "      <td>9.000000</td>\n",
       "    </tr>\n",
       "  </tbody>\n",
       "</table>\n",
       "</div>"
      ],
      "text/plain": [
       "             B01001A         B01003         B01002        B01021A\n",
       "count  159245.000000  159245.000000  159245.000000  159245.000000\n",
       "mean        1.529725       2.228717       2.756137       4.260624\n",
       "std         0.637149       0.845897       1.698941       1.678074\n",
       "min         1.000000       1.000000      -2.000000      -2.000000\n",
       "25%         1.000000       2.000000       1.000000       3.000000\n",
       "50%         2.000000       2.000000       3.000000       4.000000\n",
       "75%         2.000000       3.000000       4.000000       6.000000\n",
       "max         9.000000       9.000000       9.000000       9.000000"
      ]
     },
     "execution_count": 9,
     "metadata": {},
     "output_type": "execute_result"
    }
   ],
   "source": [
    "df[['B01001A', 'B01003', 'B01002', 'B01021A', ]].describe()"
   ]
  },
  {
   "cell_type": "code",
   "execution_count": 10,
   "id": "c45e0abe",
   "metadata": {},
   "outputs": [
    {
     "data": {
      "text/plain": [
       "(159245, 254)"
      ]
     },
     "execution_count": 10,
     "metadata": {},
     "output_type": "execute_result"
    }
   ],
   "source": [
    "# Tem cerca de 6.000 informações faltantes\n",
    "# Excluindo os missings:\n",
    "df = df.dropna()\n",
    "df.shape"
   ]
  },
  {
   "cell_type": "code",
   "execution_count": 11,
   "id": "d29c8d66",
   "metadata": {},
   "outputs": [
    {
     "data": {
      "text/plain": [
       "2.0    80788\n",
       "1.0    78011\n",
       "9.0      446\n",
       "Name: B01001A, dtype: int64"
      ]
     },
     "execution_count": 11,
     "metadata": {},
     "output_type": "execute_result"
    }
   ],
   "source": [
    "# Novas variáveis: sexo, idade, raça e ano escolar\n",
    "\n",
    "# Para criar a dummy que recebe valor 1 se for mulher e 0 c.c.\n",
    "df['B01001A'].value_counts()\n",
    "# Lembrando que o \"sorted\" do value_counts, por default, é do maior para o menor e não pela ordem do índice"
   ]
  },
  {
   "cell_type": "code",
   "execution_count": 12,
   "id": "bcded249",
   "metadata": {},
   "outputs": [],
   "source": [
    "mapping = { 1 : 0,\n",
    "            2 : 1, \n",
    "            9 : 0}"
   ]
  },
  {
   "cell_type": "code",
   "execution_count": 13,
   "id": "2406b762",
   "metadata": {},
   "outputs": [
    {
     "data": {
      "text/plain": [
       "1    80788\n",
       "0    78457\n",
       "Name: feminino, dtype: int64"
      ]
     },
     "execution_count": 13,
     "metadata": {},
     "output_type": "execute_result"
    }
   ],
   "source": [
    "df = df.assign(feminino = df.B01001A.map(mapping))\n",
    "df['feminino'].value_counts()"
   ]
  },
  {
   "cell_type": "code",
   "execution_count": 14,
   "id": "7ddf74ee",
   "metadata": {},
   "outputs": [
    {
     "data": {
      "text/plain": [
       "2.0    82389\n",
       "3.0    42509\n",
       "1.0    25642\n",
       "4.0     8276\n",
       "9.0      429\n",
       "Name: B01003, dtype: int64"
      ]
     },
     "execution_count": 14,
     "metadata": {},
     "output_type": "execute_result"
    }
   ],
   "source": [
    "# Idade\n",
    "df['B01003'].value_counts()"
   ]
  },
  {
   "cell_type": "code",
   "execution_count": 15,
   "id": "9e13f79b",
   "metadata": {},
   "outputs": [],
   "source": [
    "mapping_idade = {1 : 1,\n",
    "                 2 : 0, \n",
    "                 3 : 0,\n",
    "                 4 : 0,\n",
    "                 9 : 0}"
   ]
  },
  {
   "cell_type": "code",
   "execution_count": 16,
   "id": "510a2a32",
   "metadata": {},
   "outputs": [
    {
     "data": {
      "text/plain": [
       "0    133603\n",
       "1     25642\n",
       "Name: menos_de_treze_anos, dtype: int64"
      ]
     },
     "execution_count": 16,
     "metadata": {},
     "output_type": "execute_result"
    }
   ],
   "source": [
    "df = df.assign(menos_de_treze_anos = df.B01003.map(mapping_idade))\n",
    "df['menos_de_treze_anos'].value_counts()"
   ]
  },
  {
   "cell_type": "code",
   "execution_count": 17,
   "id": "47e11173",
   "metadata": {},
   "outputs": [],
   "source": [
    "mapping_idade = {1 : 0,\n",
    "                 2 : 1, \n",
    "                 3 : 0,\n",
    "                 4 : 0,\n",
    "                 9 : 0}"
   ]
  },
  {
   "cell_type": "code",
   "execution_count": 18,
   "id": "9a06cdfb",
   "metadata": {},
   "outputs": [
    {
     "data": {
      "text/plain": [
       "1    82389\n",
       "0    76856\n",
       "Name: treze_a_quinze_anos, dtype: int64"
      ]
     },
     "execution_count": 18,
     "metadata": {},
     "output_type": "execute_result"
    }
   ],
   "source": [
    "df = df.assign(treze_a_quinze_anos = df.B01003.map(mapping_idade))\n",
    "df['treze_a_quinze_anos'].value_counts()"
   ]
  },
  {
   "cell_type": "code",
   "execution_count": 19,
   "id": "cbc87444",
   "metadata": {},
   "outputs": [],
   "source": [
    "mapping_idade = {1 : 0,\n",
    "                 2 : 0, \n",
    "                 3 : 1,\n",
    "                 4 : 0,\n",
    "                 9 : 0}"
   ]
  },
  {
   "cell_type": "code",
   "execution_count": 20,
   "id": "62a0396d",
   "metadata": {},
   "outputs": [
    {
     "data": {
      "text/plain": [
       "0    116736\n",
       "1     42509\n",
       "Name: dezesseis_dezessete_anos, dtype: int64"
      ]
     },
     "execution_count": 20,
     "metadata": {},
     "output_type": "execute_result"
    }
   ],
   "source": [
    "df = df.assign(dezesseis_dezessete_anos = df.B01003.map(mapping_idade))\n",
    "df['dezesseis_dezessete_anos'].value_counts()"
   ]
  },
  {
   "cell_type": "code",
   "execution_count": 21,
   "id": "84352c67",
   "metadata": {},
   "outputs": [],
   "source": [
    "mapping_idade = {1 : 0,\n",
    "                 2 : 0, \n",
    "                 3 : 0,\n",
    "                 4 : 1,\n",
    "                 9 : 0}"
   ]
  },
  {
   "cell_type": "code",
   "execution_count": 22,
   "id": "b1298abe",
   "metadata": {},
   "outputs": [
    {
     "data": {
      "text/plain": [
       "0    150969\n",
       "1      8276\n",
       "Name: dezoito_anos_ou_mais, dtype: int64"
      ]
     },
     "execution_count": 22,
     "metadata": {},
     "output_type": "execute_result"
    }
   ],
   "source": [
    "df = df.assign(dezoito_anos_ou_mais = df.B01003.map(mapping_idade))\n",
    "df['dezoito_anos_ou_mais'].value_counts()"
   ]
  },
  {
   "cell_type": "code",
   "execution_count": 23,
   "id": "eb54ac84",
   "metadata": {},
   "outputs": [
    {
     "data": {
      "text/plain": [
       " 4.0    68497\n",
       " 1.0    60297\n",
       " 2.0    16737\n",
       " 3.0     5515\n",
       " 5.0     4760\n",
       " 9.0     3425\n",
       "-2.0       14\n",
       "Name: B01002, dtype: int64"
      ]
     },
     "execution_count": 23,
     "metadata": {},
     "output_type": "execute_result"
    }
   ],
   "source": [
    "# Raça\n",
    "df['B01002'].value_counts()"
   ]
  },
  {
   "cell_type": "code",
   "execution_count": 24,
   "id": "fcd97af1",
   "metadata": {},
   "outputs": [],
   "source": [
    "# Temos uma quantidade razoável de missings.\n",
    "# Vamos preencher de acordo com a probabilidade?\n",
    "mapping_raca = {1 : 1,\n",
    "                2 : 2, \n",
    "                3 : 3,\n",
    "                4 : 4,\n",
    "                5 : 5,\n",
    "                9 : None,\n",
    "               -2 : None}"
   ]
  },
  {
   "cell_type": "code",
   "execution_count": 25,
   "id": "d9470e99",
   "metadata": {},
   "outputs": [
    {
     "data": {
      "text/plain": [
       "4.0    68497\n",
       "1.0    60297\n",
       "2.0    16737\n",
       "3.0     5515\n",
       "5.0     4760\n",
       "Name: raca, dtype: int64"
      ]
     },
     "execution_count": 25,
     "metadata": {},
     "output_type": "execute_result"
    }
   ],
   "source": [
    "# Criamos a variável raça\n",
    "df = df.assign(raca = df.B01002.map(mapping_raca))\n",
    "df['raca'].value_counts()"
   ]
  },
  {
   "cell_type": "code",
   "execution_count": 26,
   "id": "70f5f74f",
   "metadata": {},
   "outputs": [],
   "source": [
    "# Calcule a distribuição de frequência de cada raça\n",
    "frequencia_niveis = df['raca'].value_counts()"
   ]
  },
  {
   "cell_type": "code",
   "execution_count": 27,
   "id": "d40194b1",
   "metadata": {},
   "outputs": [],
   "source": [
    "# Calcule o total de observações\n",
    "total_observacoes = frequencia_niveis.sum()"
   ]
  },
  {
   "cell_type": "code",
   "execution_count": 28,
   "id": "c5d5c563",
   "metadata": {},
   "outputs": [
    {
     "name": "stdout",
     "output_type": "stream",
     "text": [
      "4.0    0.439630\n",
      "1.0    0.387001\n",
      "2.0    0.107422\n",
      "3.0    0.035397\n",
      "5.0    0.030551\n",
      "Name: raca, dtype: float64\n"
     ]
    }
   ],
   "source": [
    "# Calcule a probabilidade para cada raça\n",
    "probabilidades = frequencia_niveis / total_observacoes\n",
    "\n",
    "# Print das probabilidades\n",
    "print(probabilidades)"
   ]
  },
  {
   "cell_type": "code",
   "execution_count": 29,
   "id": "37e7ca83",
   "metadata": {},
   "outputs": [],
   "source": [
    "# Criar uma lista com os nºs que correspondem às possíveis cores\n",
    "n_raca = [1, 2, 3, 4, 5]"
   ]
  },
  {
   "cell_type": "code",
   "execution_count": 30,
   "id": "2eab6d7e",
   "metadata": {},
   "outputs": [],
   "source": [
    "# Vamos definir as probabilidades de o aluno ser de determinada raça\n",
    "probabilidades = [0.39, 0.11, 0.03, 0.44, 0.03]"
   ]
  },
  {
   "cell_type": "code",
   "execution_count": 31,
   "id": "ed3bbc93",
   "metadata": {},
   "outputs": [],
   "source": [
    "import numpy as np\n",
    "# Substitua os missings na coluna 'Raças' com base nas probabilidades\n",
    "df['raca'].fillna(np.random.choice(n_raca, p=probabilidades), inplace=True)\n",
    "\n",
    "# Agora, 'Raças' está preenchida com os valores respeitando a distribuição de probabilidade"
   ]
  },
  {
   "cell_type": "code",
   "execution_count": 32,
   "id": "e627b8a7",
   "metadata": {},
   "outputs": [
    {
     "name": "stdout",
     "output_type": "stream",
     "text": [
      "<class 'pandas.core.series.Series'>\n",
      "Int64Index: 159245 entries, 0 to 165837\n",
      "Series name: raca\n",
      "Non-Null Count   Dtype  \n",
      "--------------   -----  \n",
      "159245 non-null  float64\n",
      "dtypes: float64(1)\n",
      "memory usage: 2.4 MB\n"
     ]
    }
   ],
   "source": [
    "df['raca'].info()"
   ]
  },
  {
   "cell_type": "code",
   "execution_count": 33,
   "id": "c673e2e5",
   "metadata": {},
   "outputs": [
    {
     "data": {
      "text/plain": [
       " 2.0    31223\n",
       " 3.0    29031\n",
       " 5.0    28404\n",
       " 4.0    27859\n",
       " 6.0    21821\n",
       " 7.0    20545\n",
       " 1.0      285\n",
       " 9.0       56\n",
       "-2.0       21\n",
       "Name: B01021A, dtype: int64"
      ]
     },
     "execution_count": 33,
     "metadata": {},
     "output_type": "execute_result"
    }
   ],
   "source": [
    "# Ano escolar\n",
    "df['B01021A'].value_counts()"
   ]
  },
  {
   "cell_type": "code",
   "execution_count": 34,
   "id": "a92e393d",
   "metadata": {},
   "outputs": [],
   "source": [
    "# Neste caso, vamos preencher o 9 e o -2 (sem resposta e abandono de questionário) com a moda, pra facilitar.\n",
    "# Vamos criar as dummies direto\n",
    "mapping_ano_esc = {1 : 1,\n",
    "                   2 : 0,\n",
    "                   3 : 0,\n",
    "                   4 : 0,\n",
    "                   5 : 0,\n",
    "                   6 : 0,\n",
    "                   7 : 0,\n",
    "                   9 : 0,\n",
    "                  -2 : 0}"
   ]
  },
  {
   "cell_type": "code",
   "execution_count": 35,
   "id": "81ffde06",
   "metadata": {},
   "outputs": [
    {
     "data": {
      "text/plain": [
       "0    158960\n",
       "1       285\n",
       "Name: sexto_ano_ef, dtype: int64"
      ]
     },
     "execution_count": 35,
     "metadata": {},
     "output_type": "execute_result"
    }
   ],
   "source": [
    "df = df.assign(sexto_ano_ef = df.B01021A.map(mapping_ano_esc))\n",
    "df['sexto_ano_ef'].value_counts()"
   ]
  },
  {
   "cell_type": "code",
   "execution_count": 36,
   "id": "48d21581",
   "metadata": {},
   "outputs": [],
   "source": [
    "mapping_ano_esc = {1 : 0,\n",
    "                   2 : 1,\n",
    "                   3 : 0,\n",
    "                   4 : 0,\n",
    "                   5 : 0,\n",
    "                   6 : 0,\n",
    "                   7 : 0,\n",
    "                   9 : 1,\n",
    "                  -2 : 1}"
   ]
  },
  {
   "cell_type": "code",
   "execution_count": 37,
   "id": "f829734c",
   "metadata": {},
   "outputs": [
    {
     "data": {
      "text/plain": [
       "0    127945\n",
       "1     31300\n",
       "Name: setimo_ano_ef, dtype: int64"
      ]
     },
     "execution_count": 37,
     "metadata": {},
     "output_type": "execute_result"
    }
   ],
   "source": [
    "df = df.assign(setimo_ano_ef = df.B01021A.map(mapping_ano_esc))\n",
    "df['setimo_ano_ef'].value_counts()"
   ]
  },
  {
   "cell_type": "code",
   "execution_count": 38,
   "id": "6c301163",
   "metadata": {},
   "outputs": [],
   "source": [
    "mapping_ano_esc = {1 : 0,\n",
    "                   2 : 0,\n",
    "                   3 : 1,\n",
    "                   4 : 0,\n",
    "                   5 : 0,\n",
    "                   6 : 0,\n",
    "                   7 : 0,\n",
    "                   9 : 0,\n",
    "                  -2 : 0}"
   ]
  },
  {
   "cell_type": "code",
   "execution_count": 39,
   "id": "4920f46a",
   "metadata": {},
   "outputs": [
    {
     "data": {
      "text/plain": [
       "0    130214\n",
       "1     29031\n",
       "Name: oitavo_ano_ef, dtype: int64"
      ]
     },
     "execution_count": 39,
     "metadata": {},
     "output_type": "execute_result"
    }
   ],
   "source": [
    "df = df.assign(oitavo_ano_ef = df.B01021A.map(mapping_ano_esc))\n",
    "df['oitavo_ano_ef'].value_counts()"
   ]
  },
  {
   "cell_type": "code",
   "execution_count": 40,
   "id": "7af72e51",
   "metadata": {},
   "outputs": [],
   "source": [
    "mapping_ano_esc = {1 : 0,\n",
    "                   2 : 0,\n",
    "                   3 : 0,\n",
    "                   4 : 1,\n",
    "                   5 : 0,\n",
    "                   6 : 0,\n",
    "                   7 : 0,\n",
    "                   9 : 0,\n",
    "                  -2 : 0}"
   ]
  },
  {
   "cell_type": "code",
   "execution_count": 41,
   "id": "a2af0395",
   "metadata": {},
   "outputs": [
    {
     "data": {
      "text/plain": [
       "0    131386\n",
       "1     27859\n",
       "Name: nono_ano_ef, dtype: int64"
      ]
     },
     "execution_count": 41,
     "metadata": {},
     "output_type": "execute_result"
    }
   ],
   "source": [
    "df = df.assign(nono_ano_ef = df.B01021A.map(mapping_ano_esc))\n",
    "df['nono_ano_ef'].value_counts()"
   ]
  },
  {
   "cell_type": "code",
   "execution_count": 42,
   "id": "7033ade3",
   "metadata": {},
   "outputs": [],
   "source": [
    "mapping_ano_esc = {1 : 0,\n",
    "                   2 : 0,\n",
    "                   3 : 0,\n",
    "                   4 : 0,\n",
    "                   5 : 1,\n",
    "                   6 : 0,\n",
    "                   7 : 0,\n",
    "                   9 : 0,\n",
    "                  -2 : 0}"
   ]
  },
  {
   "cell_type": "code",
   "execution_count": 43,
   "id": "97ab83fd",
   "metadata": {},
   "outputs": [
    {
     "data": {
      "text/plain": [
       "0    130841\n",
       "1     28404\n",
       "Name: primeiro_ano_em, dtype: int64"
      ]
     },
     "execution_count": 43,
     "metadata": {},
     "output_type": "execute_result"
    }
   ],
   "source": [
    "df = df.assign(primeiro_ano_em = df.B01021A.map(mapping_ano_esc))\n",
    "df['primeiro_ano_em'].value_counts()"
   ]
  },
  {
   "cell_type": "code",
   "execution_count": 44,
   "id": "7fbbae38",
   "metadata": {},
   "outputs": [],
   "source": [
    "mapping_ano_esc = {1 : 0,\n",
    "                   2 : 0,\n",
    "                   3 : 0,\n",
    "                   4 : 0,\n",
    "                   5 : 0,\n",
    "                   6 : 1,\n",
    "                   7 : 0,\n",
    "                   9 : 0,\n",
    "                  -2 : 0}"
   ]
  },
  {
   "cell_type": "code",
   "execution_count": 45,
   "id": "23eb8e99",
   "metadata": {},
   "outputs": [
    {
     "data": {
      "text/plain": [
       "0    137424\n",
       "1     21821\n",
       "Name: segundo_ano_em, dtype: int64"
      ]
     },
     "execution_count": 45,
     "metadata": {},
     "output_type": "execute_result"
    }
   ],
   "source": [
    "df = df.assign(segundo_ano_em = df.B01021A.map(mapping_ano_esc))\n",
    "df['segundo_ano_em'].value_counts()"
   ]
  },
  {
   "cell_type": "code",
   "execution_count": 46,
   "id": "59983de7",
   "metadata": {},
   "outputs": [],
   "source": [
    "mapping_ano_esc = {1 : 0,\n",
    "                   2 : 0,\n",
    "                   3 : 0,\n",
    "                   4 : 0,\n",
    "                   5 : 0,\n",
    "                   6 : 0,\n",
    "                   7 : 1,\n",
    "                   9 : 0,\n",
    "                  -2 : 0}"
   ]
  },
  {
   "cell_type": "code",
   "execution_count": 47,
   "id": "e85c6f99",
   "metadata": {},
   "outputs": [
    {
     "data": {
      "text/plain": [
       "0    138700\n",
       "1     20545\n",
       "Name: terceiro_ano_em, dtype: int64"
      ]
     },
     "execution_count": 47,
     "metadata": {},
     "output_type": "execute_result"
    }
   ],
   "source": [
    "df = df.assign(terceiro_ano_em = df.B01021A.map(mapping_ano_esc))\n",
    "df['terceiro_ano_em'].value_counts()"
   ]
  },
  {
   "cell_type": "code",
   "execution_count": 48,
   "id": "6681c46c",
   "metadata": {},
   "outputs": [
    {
     "data": {
      "text/plain": [
       "11    5932\n",
       "12    4687\n",
       "13    4359\n",
       "14    4140\n",
       "15    5228\n",
       "16    6139\n",
       "17    5307\n",
       "21    6802\n",
       "22    5820\n",
       "23    5501\n",
       "24    6299\n",
       "25    6680\n",
       "26    7357\n",
       "27    4824\n",
       "28    6388\n",
       "29    5986\n",
       "31    7742\n",
       "32    7245\n",
       "33    6515\n",
       "35    6875\n",
       "41    6119\n",
       "42    6434\n",
       "43    4639\n",
       "50    5043\n",
       "51    4961\n",
       "52    8824\n",
       "53    3399\n",
       "Name: UF, dtype: int64"
      ]
     },
     "execution_count": 48,
     "metadata": {},
     "output_type": "execute_result"
    }
   ],
   "source": [
    "# Não vou trabalhar com o índice ABEP porque:\n",
    "# 1 - Não tenho todos os itens\n",
    "# 2 - Essa transformação seria mais complicada do que pegar a renda média pra cada UF e jogar na amostra\n",
    "\n",
    "# Então bora lá: \n",
    "df['UF'].value_counts().sort_index(ascending = True)"
   ]
  },
  {
   "cell_type": "code",
   "execution_count": 49,
   "id": "eb236449",
   "metadata": {},
   "outputs": [],
   "source": [
    "# Vou manter essa classificação mesmo, porque é fácil reconhecer que cada dezena corresponde a uma região\n",
    "# A primeira é região norte, a segunda nordeste, depois sudeste, sul e centro-oeste\n",
    "# Agora usando os dados do IBGE para renda per capita de 2019, disponível em:\n",
    "# https://agenciadenoticias.ibge.gov.br/agencia-sala-de-imprensa/2013-agencia-de-noticias/releases/26956-ibge-divulga-o-rendimento-domiciliar-per-capita-2019\n",
    "renda_per_capita = {\n",
    "    11 : 1136.48,\n",
    "    12 : 889.95,\n",
    "    13 : 842.08,\n",
    "    14 : 1043.94,\n",
    "    15 : 806.76,\n",
    "    16 : 879.67,\n",
    "    17 : 1055.60,\n",
    "    21 : 635.59,\n",
    "    22 : 826.81,\n",
    "    23 : 942.36,\n",
    "    24 : 1056.59,\n",
    "    25 : 928.86,\n",
    "    26 : 970.11,\n",
    "    27 : 730.86,\n",
    "    28 : 979.78,\n",
    "    29 : 912.81,\n",
    "    31 : 1357.59,\n",
    "    32 : 1476.75,\n",
    "    33 : 1881.57,\n",
    "    35 : 1945.73,\n",
    "    41 : 1620.88,\n",
    "    42 : 1769.45,\n",
    "    43 : 1842.98,\n",
    "    50 : 1514.31,\n",
    "    51 : 1402.87,\n",
    "    52 : 1306.31,\n",
    "    53 : 2685.76\n",
    "    \n",
    "}\n"
   ]
  },
  {
   "cell_type": "code",
   "execution_count": 50,
   "id": "ca91ed97",
   "metadata": {
    "scrolled": true
   },
   "outputs": [
    {
     "data": {
      "text/plain": [
       "count    159245.000000\n",
       "mean       1228.546675\n",
       "std         432.304440\n",
       "min         635.590000\n",
       "25%         912.810000\n",
       "50%        1056.590000\n",
       "75%        1476.750000\n",
       "max        2685.760000\n",
       "Name: renda_per_capita, dtype: float64"
      ]
     },
     "execution_count": 50,
     "metadata": {},
     "output_type": "execute_result"
    }
   ],
   "source": [
    "# Adicionar uma nova coluna 'renda_per_capita' com base no estado\n",
    "df['renda_per_capita'] = df['UF'].map(renda_per_capita)\n",
    "df['renda_per_capita'].describe()"
   ]
  },
  {
   "cell_type": "code",
   "execution_count": 51,
   "id": "f6395325",
   "metadata": {},
   "outputs": [
    {
     "data": {
      "text/plain": [
       "-2.0        26\n",
       " 1.0    141468\n",
       " 2.0     17687\n",
       " 9.0        64\n",
       "Name: B01006, dtype: int64"
      ]
     },
     "execution_count": 51,
     "metadata": {},
     "output_type": "execute_result"
    }
   ],
   "source": [
    "# Informações sobre morar com a mãe e o pai\n",
    "df['B01006'].value_counts().sort_index(ascending = True)"
   ]
  },
  {
   "cell_type": "code",
   "execution_count": 52,
   "id": "24b4fa5c",
   "metadata": {},
   "outputs": [],
   "source": [
    "# Dummy que recebe 1 se mora com a mãe e 0 c.c.\n",
    "mapping = { 1 : 1,\n",
    "            2 : 0, \n",
    "            9 : 0,\n",
    "           -2 : 0}"
   ]
  },
  {
   "cell_type": "code",
   "execution_count": 53,
   "id": "7ea677af",
   "metadata": {},
   "outputs": [
    {
     "data": {
      "text/plain": [
       "1    141468\n",
       "0     17777\n",
       "Name: mora_c_mae, dtype: int64"
      ]
     },
     "execution_count": 53,
     "metadata": {},
     "output_type": "execute_result"
    }
   ],
   "source": [
    "df = df.assign(mora_c_mae = df.B01006.map(mapping))\n",
    "df['mora_c_mae'].value_counts()"
   ]
  },
  {
   "cell_type": "code",
   "execution_count": 54,
   "id": "5624e0ce",
   "metadata": {},
   "outputs": [
    {
     "data": {
      "text/plain": [
       "-2.0        26\n",
       " 1.0    100817\n",
       " 2.0     58290\n",
       " 9.0       112\n",
       "Name: B01007, dtype: int64"
      ]
     },
     "execution_count": 54,
     "metadata": {},
     "output_type": "execute_result"
    }
   ],
   "source": [
    "df['B01007'].value_counts().sort_index(ascending = True)"
   ]
  },
  {
   "cell_type": "code",
   "execution_count": 55,
   "id": "de85efe7",
   "metadata": {},
   "outputs": [],
   "source": [
    "# Dummy que recebe 1 se mora com o pai e 0 c.c.\n",
    "mapping = { 1 : 1,\n",
    "            2 : 0, \n",
    "            9 : 0,\n",
    "           -2 : 0}"
   ]
  },
  {
   "cell_type": "code",
   "execution_count": 56,
   "id": "370b18bc",
   "metadata": {},
   "outputs": [
    {
     "data": {
      "text/plain": [
       "1    100817\n",
       "0     58428\n",
       "Name: mora_c_pai, dtype: int64"
      ]
     },
     "execution_count": 56,
     "metadata": {},
     "output_type": "execute_result"
    }
   ],
   "source": [
    "df = df.assign(mora_c_pai = df.B01007.map(mapping))\n",
    "df['mora_c_pai'].value_counts()"
   ]
  },
  {
   "cell_type": "code",
   "execution_count": 57,
   "id": "ce8e29e3",
   "metadata": {},
   "outputs": [
    {
     "data": {
      "text/plain": [
       "-2.0        27\n",
       " 1.0       332\n",
       " 2.0     11164\n",
       " 3.0     37661\n",
       " 4.0     56510\n",
       " 5.0     29954\n",
       " 6.0     12038\n",
       " 7.0      5540\n",
       " 8.0      2859\n",
       " 9.0      1716\n",
       " 10.0     1343\n",
       " 99.0      101\n",
       "Name: B01010A, dtype: int64"
      ]
     },
     "execution_count": 57,
     "metadata": {},
     "output_type": "execute_result"
    }
   ],
   "source": [
    "# Informação sobre quantas pessoas moram com o aluno\n",
    "df['B01010A'].value_counts().sort_index(ascending = True)"
   ]
  },
  {
   "cell_type": "code",
   "execution_count": 58,
   "id": "11e9b5b0",
   "metadata": {},
   "outputs": [
    {
     "data": {
      "text/plain": [
       " 4.0     56510\n",
       " 3.0     37661\n",
       " 5.0     29954\n",
       " 6.0     12038\n",
       " 2.0     11164\n",
       " 7.0      5540\n",
       " 8.0      2859\n",
       " 9.0      1716\n",
       " 10.0     1343\n",
       " 1.0       332\n",
       " 99.0      101\n",
       "-2.0        27\n",
       "Name: B01010A, dtype: int64"
      ]
     },
     "execution_count": 58,
     "metadata": {},
     "output_type": "execute_result"
    }
   ],
   "source": [
    "# Vamos manter como está até o 8, colocar 9 e 10 como 8 (8 pessoas ou mais)\n",
    "# E preencher -2 e 99 com a moda\n",
    "df['B01010A'].value_counts()"
   ]
  },
  {
   "cell_type": "code",
   "execution_count": 59,
   "id": "f7c0390f",
   "metadata": {},
   "outputs": [],
   "source": [
    "mapping_moradores = {1 : 1,\n",
    "                     2 : 2,\n",
    "                     3 : 3,\n",
    "                     4 : 4,\n",
    "                     5 : 5,\n",
    "                     6 : 6,\n",
    "                     7 : 7,\n",
    "                     8 : 8,\n",
    "                     9 : 8,\n",
    "                    10 : 8,\n",
    "                    -2 : 4,\n",
    "                    99 : 4}"
   ]
  },
  {
   "cell_type": "code",
   "execution_count": 60,
   "id": "bf98f6d9",
   "metadata": {},
   "outputs": [
    {
     "data": {
      "text/plain": [
       "1      332\n",
       "2    11164\n",
       "3    37661\n",
       "4    56638\n",
       "5    29954\n",
       "6    12038\n",
       "7     5540\n",
       "8     5918\n",
       "Name: n_moradores, dtype: int64"
      ]
     },
     "execution_count": 60,
     "metadata": {},
     "output_type": "execute_result"
    }
   ],
   "source": [
    "df = df.assign(n_moradores = df.B01010A.map(mapping_moradores))\n",
    "df['n_moradores'].value_counts().sort_index(ascending = True)"
   ]
  },
  {
   "cell_type": "markdown",
   "id": "fcd5d9cd",
   "metadata": {},
   "source": [
    "### Variável de interesse - escolaridade da mãe"
   ]
  },
  {
   "cell_type": "code",
   "execution_count": 61,
   "id": "a4da5fb8",
   "metadata": {},
   "outputs": [
    {
     "data": {
      "text/plain": [
       "-2.0       30\n",
       " 1.0     4541\n",
       " 2.0    18589\n",
       " 3.0     7230\n",
       " 4.0     9484\n",
       " 5.0    29175\n",
       " 6.0    11425\n",
       " 7.0    50810\n",
       " 8.0    27656\n",
       " 9.0      305\n",
       "Name: B01008B, dtype: int64"
      ]
     },
     "execution_count": 61,
     "metadata": {},
     "output_type": "execute_result"
    }
   ],
   "source": [
    "df['B01008B'].value_counts().sort_index(ascending = True)"
   ]
  },
  {
   "cell_type": "code",
   "execution_count": 62,
   "id": "0eb592a2",
   "metadata": {},
   "outputs": [],
   "source": [
    "# Queremos que maiores valores correspondam à maior escolaridade\n",
    "# Criamos esse dicionário com o mapeamento dos valores (vide dicionário)\n",
    "mapping_esc_mae = {8 : None,\n",
    "                   1 : 1,\n",
    "                   2 : 2, \n",
    "                   3 : 3,\n",
    "                   4 : 4,\n",
    "                   5 : 5,\n",
    "                   6 : 6,\n",
    "                   7 : 7,\n",
    "                   9 : None,\n",
    "                  -2 : None}"
   ]
  },
  {
   "cell_type": "code",
   "execution_count": 63,
   "id": "56a6b6fb",
   "metadata": {},
   "outputs": [
    {
     "data": {
      "text/plain": [
       "1.0     4541\n",
       "2.0    18589\n",
       "3.0     7230\n",
       "4.0     9484\n",
       "5.0    29175\n",
       "6.0    11425\n",
       "7.0    50810\n",
       "Name: esc_mae, dtype: int64"
      ]
     },
     "execution_count": 63,
     "metadata": {},
     "output_type": "execute_result"
    }
   ],
   "source": [
    "# Criamos a variável Esc_mae\n",
    "df = df.assign(esc_mae = df.B01008B.map(mapping_esc_mae))\n",
    "df['esc_mae'].value_counts().sort_index(ascending = True)"
   ]
  },
  {
   "cell_type": "code",
   "execution_count": 64,
   "id": "274f8719",
   "metadata": {},
   "outputs": [
    {
     "data": {
      "text/plain": [
       "count    131254.000000\n",
       "mean          5.115577\n",
       "std           1.934669\n",
       "min           1.000000\n",
       "25%           4.000000\n",
       "50%           5.000000\n",
       "75%           7.000000\n",
       "max           7.000000\n",
       "Name: esc_mae, dtype: float64"
      ]
     },
     "execution_count": 64,
     "metadata": {},
     "output_type": "execute_result"
    }
   ],
   "source": [
    "df['esc_mae'].describe()"
   ]
  },
  {
   "cell_type": "code",
   "execution_count": 65,
   "id": "8539a801",
   "metadata": {},
   "outputs": [],
   "source": [
    "# Para o pandas, uma coluna pode ser float,\n",
    "# e os seus valores serem tidos como strings!\n",
    "# Corrigindo isso:\n",
    "# Converta os valores para float, tratando os não numéricos como NaN\n",
    "df['esc_mae'] = pd.to_numeric(df['esc_mae'], errors='coerce')\n",
    "\n",
    "# Converta a coluna para o tipo float\n",
    "df['esc_mae'] = df['esc_mae'].astype(float)"
   ]
  },
  {
   "cell_type": "code",
   "execution_count": 66,
   "id": "d93c7670",
   "metadata": {},
   "outputs": [],
   "source": [
    "# Agora bora preencher os missings\n",
    "# Calcule a distribuição de frequência dos níveis de escolaridade\n",
    "frequencia_niveis = df['esc_mae'].value_counts()"
   ]
  },
  {
   "cell_type": "code",
   "execution_count": 67,
   "id": "b39eeae6",
   "metadata": {},
   "outputs": [],
   "source": [
    "# Calcule o total de observações\n",
    "total_observacoes = frequencia_niveis.sum()"
   ]
  },
  {
   "cell_type": "code",
   "execution_count": 68,
   "id": "544efcc8",
   "metadata": {},
   "outputs": [
    {
     "name": "stdout",
     "output_type": "stream",
     "text": [
      "7.0    0.387112\n",
      "5.0    0.222279\n",
      "2.0    0.141626\n",
      "6.0    0.087045\n",
      "4.0    0.072257\n",
      "3.0    0.055084\n",
      "1.0    0.034597\n",
      "Name: esc_mae, dtype: float64\n"
     ]
    }
   ],
   "source": [
    "# Calcule a probabilidade para cada nível de escolaridade\n",
    "probabilidades = frequencia_niveis / total_observacoes\n",
    "\n",
    "# Print das probabilidades\n",
    "print(probabilidades)"
   ]
  },
  {
   "cell_type": "code",
   "execution_count": 69,
   "id": "b6be459d",
   "metadata": {},
   "outputs": [],
   "source": [
    "# Vamos criar uma lista com os possíveis níveis de escolaridade\n",
    "niveis_escolaridade = [1, 2, 3, 4, 5, 6, 7]"
   ]
  },
  {
   "cell_type": "code",
   "execution_count": 70,
   "id": "c7b1ab78",
   "metadata": {},
   "outputs": [],
   "source": [
    "# Vamos definir as probabilidades de cada nível de escolaridade \n",
    "probabilidades = [0.03, 0.14, 0.05, 0.07, 0.23, 0.08, 0.40]"
   ]
  },
  {
   "cell_type": "code",
   "execution_count": 71,
   "id": "e8ca15db",
   "metadata": {},
   "outputs": [
    {
     "name": "stdout",
     "output_type": "stream",
     "text": [
      "<class 'pandas.core.series.Series'>\n",
      "Int64Index: 159245 entries, 0 to 165837\n",
      "Series name: esc_mae\n",
      "Non-Null Count   Dtype  \n",
      "--------------   -----  \n",
      "159245 non-null  float64\n",
      "dtypes: float64(1)\n",
      "memory usage: 2.4 MB\n"
     ]
    }
   ],
   "source": [
    "import numpy as np\n",
    "# Substitua os missings na coluna 'Nível_Escolaridade' com base nas probabilidades\n",
    "df['esc_mae'].fillna(np.random.choice(niveis_escolaridade, p=probabilidades), inplace=True)\n",
    "\n",
    "# Agora, 'Nível_Escolaridade' está preenchida com os valores respeitando a distribuição de probabilidade\n",
    "# Verifique a distribuição após o preenchimento\n",
    "df['esc_mae'].info()"
   ]
  },
  {
   "cell_type": "markdown",
   "id": "7653a64f",
   "metadata": {},
   "source": [
    "## Seção B2 - Alimentação"
   ]
  },
  {
   "cell_type": "markdown",
   "id": "d3a07a8d",
   "metadata": {},
   "source": [
    "### Para o artigo sobre família e saúde mental"
   ]
  },
  {
   "cell_type": "code",
   "execution_count": 72,
   "id": "8dd4d490",
   "metadata": {},
   "outputs": [
    {
     "data": {
      "text/plain": [
       " 1.0    98641\n",
       " 5.0    23079\n",
       " 6.0    10804\n",
       " 3.0     9353\n",
       " 2.0     8777\n",
       " 4.0     8479\n",
       " 9.0       78\n",
       "-2.0       34\n",
       "Name: B02017A, dtype: int64"
      ]
     },
     "execution_count": 72,
     "metadata": {},
     "output_type": "execute_result"
    }
   ],
   "source": [
    "# Se costuma almoçar ou jantar com pai, mãe ou responsável\n",
    "df['B02017A'].value_counts()"
   ]
  },
  {
   "cell_type": "code",
   "execution_count": 73,
   "id": "0a59e526",
   "metadata": {},
   "outputs": [],
   "source": [
    "# Preencher o missing com a moda\n",
    "mapping_refeicao_familia = {1 : 6,\n",
    "                            2 : 5,\n",
    "                            3 : 4,\n",
    "                            4 : 3,\n",
    "                            5 : 2,\n",
    "                            6 : 1,\n",
    "                            9 : 6,\n",
    "                           -2 : 6}"
   ]
  },
  {
   "cell_type": "code",
   "execution_count": 74,
   "id": "0d92bc27",
   "metadata": {},
   "outputs": [
    {
     "data": {
      "text/plain": [
       "6    98753\n",
       "2    23079\n",
       "1    10804\n",
       "4     9353\n",
       "5     8777\n",
       "3     8479\n",
       "Name: refeicao_familia, dtype: int64"
      ]
     },
     "execution_count": 74,
     "metadata": {},
     "output_type": "execute_result"
    }
   ],
   "source": [
    "# Criamos a variável refeicao_familia\n",
    "df = df.assign(refeicao_familia = df.B02017A.map(mapping_refeicao_familia))\n",
    "df['refeicao_familia'].value_counts()"
   ]
  },
  {
   "cell_type": "code",
   "execution_count": 75,
   "id": "311eb9c6",
   "metadata": {},
   "outputs": [
    {
     "data": {
      "text/plain": [
       "-2.0       34\n",
       " 1.0    73697\n",
       " 2.0    11823\n",
       " 3.0    13990\n",
       " 4.0    15196\n",
       " 5.0    44337\n",
       " 9.0      168\n",
       "Name: B02018B, dtype: int64"
      ]
     },
     "execution_count": 75,
     "metadata": {},
     "output_type": "execute_result"
    }
   ],
   "source": [
    "# Se costuma fazer outras coisas enquanto come\n",
    "df['B02018B'].value_counts().sort_index(ascending = True)"
   ]
  },
  {
   "cell_type": "code",
   "execution_count": 76,
   "id": "08beb813",
   "metadata": {},
   "outputs": [],
   "source": [
    "# Preencher o missing com a moda\n",
    "mapping_refeicao_distraida = {1 : 5,\n",
    "                            2 : 4,\n",
    "                            3 : 3,\n",
    "                            4 : 2,\n",
    "                            5 : 1,\n",
    "                            9 : 5,\n",
    "                           -2 : 5}"
   ]
  },
  {
   "cell_type": "code",
   "execution_count": 77,
   "id": "c7688227",
   "metadata": {},
   "outputs": [
    {
     "data": {
      "text/plain": [
       "5    73899\n",
       "1    44337\n",
       "2    15196\n",
       "3    13990\n",
       "4    11823\n",
       "Name: refeicao_distraida, dtype: int64"
      ]
     },
     "execution_count": 77,
     "metadata": {},
     "output_type": "execute_result"
    }
   ],
   "source": [
    "# Criamos a variável refeicao_distraida\n",
    "df = df.assign(refeicao_distraida = df.B02018B.map(mapping_refeicao_distraida))\n",
    "df['refeicao_distraida'].value_counts()"
   ]
  },
  {
   "cell_type": "markdown",
   "id": "2945ae62",
   "metadata": {},
   "source": [
    "## Seção B3 - Atividade Física"
   ]
  },
  {
   "cell_type": "code",
   "execution_count": 78,
   "id": "0a62b186",
   "metadata": {},
   "outputs": [
    {
     "data": {
      "text/html": [
       "<div>\n",
       "<style scoped>\n",
       "    .dataframe tbody tr th:only-of-type {\n",
       "        vertical-align: middle;\n",
       "    }\n",
       "\n",
       "    .dataframe tbody tr th {\n",
       "        vertical-align: top;\n",
       "    }\n",
       "\n",
       "    .dataframe thead th {\n",
       "        text-align: right;\n",
       "    }\n",
       "</style>\n",
       "<table border=\"1\" class=\"dataframe\">\n",
       "  <thead>\n",
       "    <tr style=\"text-align: right;\">\n",
       "      <th></th>\n",
       "      <th>B03003A</th>\n",
       "      <th>B03005B</th>\n",
       "      <th>B03006B</th>\n",
       "      <th>B03007A</th>\n",
       "    </tr>\n",
       "  </thead>\n",
       "  <tbody>\n",
       "    <tr>\n",
       "      <th>count</th>\n",
       "      <td>159245.000000</td>\n",
       "      <td>159245.000000</td>\n",
       "      <td>159245.000000</td>\n",
       "      <td>159245.000000</td>\n",
       "    </tr>\n",
       "    <tr>\n",
       "      <th>mean</th>\n",
       "      <td>2.287463</td>\n",
       "      <td>3.507118</td>\n",
       "      <td>3.382819</td>\n",
       "      <td>2.980313</td>\n",
       "    </tr>\n",
       "    <tr>\n",
       "      <th>std</th>\n",
       "      <td>1.138595</td>\n",
       "      <td>5.770549</td>\n",
       "      <td>2.356969</td>\n",
       "      <td>3.468043</td>\n",
       "    </tr>\n",
       "    <tr>\n",
       "      <th>min</th>\n",
       "      <td>-2.000000</td>\n",
       "      <td>-2.000000</td>\n",
       "      <td>-2.000000</td>\n",
       "      <td>-2.000000</td>\n",
       "    </tr>\n",
       "    <tr>\n",
       "      <th>25%</th>\n",
       "      <td>2.000000</td>\n",
       "      <td>1.000000</td>\n",
       "      <td>1.000000</td>\n",
       "      <td>-1.000000</td>\n",
       "    </tr>\n",
       "    <tr>\n",
       "      <th>50%</th>\n",
       "      <td>2.000000</td>\n",
       "      <td>3.000000</td>\n",
       "      <td>3.000000</td>\n",
       "      <td>3.000000</td>\n",
       "    </tr>\n",
       "    <tr>\n",
       "      <th>75%</th>\n",
       "      <td>3.000000</td>\n",
       "      <td>6.000000</td>\n",
       "      <td>5.000000</td>\n",
       "      <td>6.000000</td>\n",
       "    </tr>\n",
       "    <tr>\n",
       "      <th>max</th>\n",
       "      <td>9.000000</td>\n",
       "      <td>99.000000</td>\n",
       "      <td>9.000000</td>\n",
       "      <td>9.000000</td>\n",
       "    </tr>\n",
       "  </tbody>\n",
       "</table>\n",
       "</div>"
      ],
      "text/plain": [
       "             B03003A        B03005B        B03006B        B03007A\n",
       "count  159245.000000  159245.000000  159245.000000  159245.000000\n",
       "mean        2.287463       3.507118       3.382819       2.980313\n",
       "std         1.138595       5.770549       2.356969       3.468043\n",
       "min        -2.000000      -2.000000      -2.000000      -2.000000\n",
       "25%         2.000000       1.000000       1.000000      -1.000000\n",
       "50%         2.000000       3.000000       3.000000       3.000000\n",
       "75%         3.000000       6.000000       5.000000       6.000000\n",
       "max         9.000000      99.000000       9.000000       9.000000"
      ]
     },
     "execution_count": 78,
     "metadata": {},
     "output_type": "execute_result"
    }
   ],
   "source": [
    "# Segundo a OMS 2020, crianças e adolescentes devem se exercitar em média por 60 min todo dia.\n",
    "# Em 2010, o ideal era pelo menos 60 min\n",
    "# Disponível em: https://bjsm.bmj.com/content/54/24/1451\n",
    "# Como a pesquisa foi feita em 2019, o que queremos é criar uma única dummy que me diz se o aluno\n",
    "# fez atividade física suficiente naquela semana ou não, visto que a atividade física contribui para melhora da saúde mental\n",
    "df[['B03003A', 'B03005B', 'B03006B', 'B03007A']].describe()"
   ]
  },
  {
   "cell_type": "code",
   "execution_count": 79,
   "id": "5ef8c403",
   "metadata": {},
   "outputs": [
    {
     "data": {
      "text/plain": [
       "-2.0       71\n",
       " 1.0    35678\n",
       " 2.0    68517\n",
       " 3.0    41626\n",
       " 4.0     6536\n",
       " 5.0     2450\n",
       " 6.0     3296\n",
       " 7.0      312\n",
       " 8.0      366\n",
       " 9.0      393\n",
       "Name: B03003A, dtype: int64"
      ]
     },
     "execution_count": 79,
     "metadata": {},
     "output_type": "execute_result"
    }
   ],
   "source": [
    "df['B03003A'].value_counts().sort_index(ascending = True)"
   ]
  },
  {
   "cell_type": "code",
   "execution_count": 80,
   "id": "74e127ea",
   "metadata": {},
   "outputs": [
    {
     "data": {
      "text/plain": [
       "-2.0        76\n",
       "-1.0     36071\n",
       " 1.0     28249\n",
       " 2.0      8912\n",
       " 3.0      9013\n",
       " 4.0     10280\n",
       " 5.0     14016\n",
       " 6.0     21766\n",
       " 7.0     14122\n",
       " 8.0      5078\n",
       " 9.0     11269\n",
       " 99.0      393\n",
       "Name: B03005B, dtype: int64"
      ]
     },
     "execution_count": 80,
     "metadata": {},
     "output_type": "execute_result"
    }
   ],
   "source": [
    "df['B03005B'].value_counts().sort_index(ascending = True)"
   ]
  },
  {
   "cell_type": "code",
   "execution_count": 81,
   "id": "8305b2e7",
   "metadata": {},
   "outputs": [
    {
     "data": {
      "text/plain": [
       "-2.0       80\n",
       " 1.0    53424\n",
       " 2.0    18317\n",
       " 3.0    21152\n",
       " 4.0    18388\n",
       " 5.0    11479\n",
       " 6.0    15230\n",
       " 7.0     6724\n",
       " 8.0    14111\n",
       " 9.0      340\n",
       "Name: B03006B, dtype: int64"
      ]
     },
     "execution_count": 81,
     "metadata": {},
     "output_type": "execute_result"
    }
   ],
   "source": [
    "df['B03006B'].value_counts().sort_index(ascending = True)"
   ]
  },
  {
   "cell_type": "code",
   "execution_count": 82,
   "id": "7c9658d2",
   "metadata": {},
   "outputs": [
    {
     "data": {
      "text/plain": [
       "-2.0       80\n",
       "-1.0    53764\n",
       " 1.0    10091\n",
       " 2.0    12838\n",
       " 3.0    11325\n",
       " 4.0    11253\n",
       " 5.0     8569\n",
       " 6.0    13925\n",
       " 7.0    12068\n",
       " 8.0    25089\n",
       " 9.0      243\n",
       "Name: B03007A, dtype: int64"
      ]
     },
     "execution_count": 82,
     "metadata": {},
     "output_type": "execute_result"
    }
   ],
   "source": [
    "df['B03007A'].value_counts().sort_index(ascending = True)"
   ]
  },
  {
   "cell_type": "code",
   "execution_count": 83,
   "id": "9699b9f5",
   "metadata": {},
   "outputs": [],
   "source": [
    "map_ed_fisica = {-2 : 1,\n",
    "                1 : 0,\n",
    "                2 : 1,\n",
    "                3 : 2,\n",
    "                4 : 3,\n",
    "                5 : 4,\n",
    "                6 : 5,\n",
    "                7 : 6,\n",
    "                8 : 7,\n",
    "                9 : 1}"
   ]
  },
  {
   "cell_type": "code",
   "execution_count": 84,
   "id": "706ca523",
   "metadata": {},
   "outputs": [
    {
     "data": {
      "text/plain": [
       "1    68981\n",
       "2    41626\n",
       "0    35678\n",
       "3     6536\n",
       "5     3296\n",
       "4     2450\n",
       "7      366\n",
       "6      312\n",
       "Name: aula_ed_fisica, dtype: int64"
      ]
     },
     "execution_count": 84,
     "metadata": {},
     "output_type": "execute_result"
    }
   ],
   "source": [
    "# Criamos a variável aula_ed_fisica\n",
    "# -2 e 9 preenchidos com a moda\n",
    "df = df.assign(aula_ed_fisica = df.B03003A.map(map_ed_fisica))\n",
    "df['aula_ed_fisica'].value_counts()"
   ]
  },
  {
   "cell_type": "code",
   "execution_count": 85,
   "id": "4fbb5177",
   "metadata": {},
   "outputs": [],
   "source": [
    "map_atividade_fisica = {-2 : 0,\n",
    "                1 : 0,\n",
    "                2 : 1,\n",
    "                3 : 2,\n",
    "                4 : 3,\n",
    "                5 : 4,\n",
    "                6 : 5,\n",
    "                7 : 6,\n",
    "                8 : 7,\n",
    "                9 : 0}"
   ]
  },
  {
   "cell_type": "code",
   "execution_count": 86,
   "id": "6c61ab15",
   "metadata": {},
   "outputs": [
    {
     "data": {
      "text/plain": [
       "0    53844\n",
       "1    18317\n",
       "2    21152\n",
       "3    18388\n",
       "4    11479\n",
       "5    15230\n",
       "6     6724\n",
       "7    14111\n",
       "Name: dias_atividade_fisica, dtype: int64"
      ]
     },
     "execution_count": 86,
     "metadata": {},
     "output_type": "execute_result"
    }
   ],
   "source": [
    "# Criamos a variável dias_atividade_fisica\n",
    "# -2 e 9 preenchidos com a moda\n",
    "df = df.assign(dias_atividade_fisica = df.B03006B.map(map_atividade_fisica))\n",
    "df['dias_atividade_fisica'].value_counts().sort_index(ascending = True)"
   ]
  },
  {
   "cell_type": "code",
   "execution_count": 87,
   "id": "77854905",
   "metadata": {},
   "outputs": [
    {
     "data": {
      "text/plain": [
       "0    131566\n",
       "1     27679\n",
       "Name: exercicio_todo_dia, dtype: int64"
      ]
     },
     "execution_count": 87,
     "metadata": {},
     "output_type": "execute_result"
    }
   ],
   "source": [
    "# Criando uma variável que assume valor 1 caso dias_atividade_fisica + aula_ed_fisica =>7 e 0 c.c.\n",
    "df['exercicio_todo_dia'] = df.apply(lambda row: 1 if row['dias_atividade_fisica'] + row['aula_ed_fisica'] >= 7 else 0, axis=1)\n",
    "df['exercicio_todo_dia'].value_counts()"
   ]
  },
  {
   "cell_type": "code",
   "execution_count": 88,
   "id": "dab1caeb",
   "metadata": {},
   "outputs": [],
   "source": [
    "map_tempo_ed_fisica = {-2 : None,\n",
    "                       -1 : None,\n",
    "                        1 : 0,\n",
    "                        2 : 9,\n",
    "                        3 : 19,\n",
    "                        4 : 29,\n",
    "                        5 : 39,\n",
    "                        6 : 49,\n",
    "                        7 : 59,\n",
    "                        8 : 60,\n",
    "                        9 : 60,\n",
    "                       99 : None}"
   ]
  },
  {
   "cell_type": "code",
   "execution_count": 89,
   "id": "ad2335e8",
   "metadata": {},
   "outputs": [
    {
     "data": {
      "text/plain": [
       "0.0     28249\n",
       "9.0      8912\n",
       "19.0     9013\n",
       "29.0    10280\n",
       "39.0    14016\n",
       "49.0    21766\n",
       "59.0    14122\n",
       "60.0    16347\n",
       "Name: tempo_ed_fisica, dtype: int64"
      ]
     },
     "execution_count": 89,
     "metadata": {},
     "output_type": "execute_result"
    }
   ],
   "source": [
    "# Criamos a variável tempo_ed_fisica\n",
    "df = df.assign(tempo_ed_fisica = df.B03005B.map(map_tempo_ed_fisica))\n",
    "df['tempo_ed_fisica'].value_counts().sort_index(ascending = True)"
   ]
  },
  {
   "cell_type": "code",
   "execution_count": 90,
   "id": "d89d9090",
   "metadata": {},
   "outputs": [],
   "source": [
    "# Agora bora preencher os missings\n",
    "# Calcule a distribuição de frequência dos tempos em educação física\n",
    "frequencia_niveis = df['tempo_ed_fisica'].value_counts()"
   ]
  },
  {
   "cell_type": "code",
   "execution_count": 91,
   "id": "3c143ffa",
   "metadata": {},
   "outputs": [],
   "source": [
    "# Calcule o total de observações\n",
    "total_observacoes = frequencia_niveis.sum()"
   ]
  },
  {
   "cell_type": "code",
   "execution_count": 92,
   "id": "bc9b6ae8",
   "metadata": {},
   "outputs": [
    {
     "name": "stdout",
     "output_type": "stream",
     "text": [
      "0.0     0.230219\n",
      "49.0    0.177385\n",
      "60.0    0.133222\n",
      "59.0    0.115089\n",
      "39.0    0.114225\n",
      "29.0    0.083778\n",
      "19.0    0.073453\n",
      "9.0     0.072629\n",
      "Name: tempo_ed_fisica, dtype: float64\n"
     ]
    }
   ],
   "source": [
    "# Calcule a probabilidade para cada nível de escolaridade\n",
    "probabilidades = frequencia_niveis / total_observacoes\n",
    "\n",
    "# Print das probabilidades\n",
    "print(probabilidades)"
   ]
  },
  {
   "cell_type": "code",
   "execution_count": 93,
   "id": "565956ea",
   "metadata": {},
   "outputs": [],
   "source": [
    "# Vamos criar uma lista com os possíveis categorias de tempo gasto com atividade física\n",
    "tempo_em_aula_ed_fisica = [0, 9, 19, 29, 39, 49, 59, 60]"
   ]
  },
  {
   "cell_type": "code",
   "execution_count": 94,
   "id": "ed81f112",
   "metadata": {},
   "outputs": [],
   "source": [
    "# Vamos definir as probabilidades de cada faixa de tempo \n",
    "probabilidades = [0.26, 0.07, 0.07, 0.08, 0.11, 0.17, 0.11, 0.13]"
   ]
  },
  {
   "cell_type": "code",
   "execution_count": 95,
   "id": "1fde35c6",
   "metadata": {},
   "outputs": [
    {
     "data": {
      "text/plain": [
       "count    159245.000000\n",
       "mean         29.332230\n",
       "std          21.023998\n",
       "min           0.000000\n",
       "25%          19.000000\n",
       "50%          19.000000\n",
       "75%          49.000000\n",
       "max          60.000000\n",
       "Name: tempo_ed_fisica, dtype: float64"
      ]
     },
     "execution_count": 95,
     "metadata": {},
     "output_type": "execute_result"
    }
   ],
   "source": [
    "# Substitua os missings com base nas probabilidades\n",
    "df['tempo_ed_fisica'].fillna(np.random.choice(tempo_em_aula_ed_fisica, p=probabilidades), inplace=True)\n",
    "\n",
    "# Agora, 'Tempo de educação física' está preenchida com os valores respeitando a distribuição de probabilidade\n",
    "# Verifique a distribuição após o preenchimento\n",
    "df['tempo_ed_fisica'].describe()"
   ]
  },
  {
   "cell_type": "code",
   "execution_count": 96,
   "id": "c8777331",
   "metadata": {},
   "outputs": [],
   "source": [
    "map_tempo_atividade_fisica = {-2 : None,\n",
    "                       -1 : None,\n",
    "                        1 : 9,\n",
    "                        2 : 19,\n",
    "                        3 : 29,\n",
    "                        4 : 39,\n",
    "                        5 : 49,\n",
    "                        6 : 59,\n",
    "                        7 : 60,\n",
    "                        8 : 60,\n",
    "                        9 : None}"
   ]
  },
  {
   "cell_type": "code",
   "execution_count": 97,
   "id": "1f5e4969",
   "metadata": {},
   "outputs": [
    {
     "data": {
      "text/plain": [
       "9.0     10091\n",
       "19.0    12838\n",
       "29.0    11325\n",
       "39.0    11253\n",
       "49.0     8569\n",
       "59.0    13925\n",
       "60.0    37157\n",
       "Name: tempo_atividade_fisica, dtype: int64"
      ]
     },
     "execution_count": 97,
     "metadata": {},
     "output_type": "execute_result"
    }
   ],
   "source": [
    "# Criamos a variável tempo_atividade_fisica\n",
    "df = df.assign(tempo_atividade_fisica = df.B03007A.map(map_tempo_atividade_fisica))\n",
    "df['tempo_atividade_fisica'].value_counts().sort_index(ascending = True)"
   ]
  },
  {
   "cell_type": "code",
   "execution_count": 98,
   "id": "4b3eec39",
   "metadata": {},
   "outputs": [
    {
     "name": "stdout",
     "output_type": "stream",
     "text": [
      "<class 'pandas.core.series.Series'>\n",
      "Int64Index: 159245 entries, 0 to 165837\n",
      "Series name: tempo_atividade_fisica\n",
      "Non-Null Count   Dtype  \n",
      "--------------   -----  \n",
      "105158 non-null  float64\n",
      "dtypes: float64(1)\n",
      "memory usage: 2.4 MB\n"
     ]
    }
   ],
   "source": [
    "df['tempo_atividade_fisica'].info()"
   ]
  },
  {
   "cell_type": "code",
   "execution_count": 99,
   "id": "bb51bea9",
   "metadata": {},
   "outputs": [],
   "source": [
    "# Agora bora preencher os missings\n",
    "# Calcule a distribuição de frequência dos tempos em educação física\n",
    "frequencia_niveis = df['tempo_atividade_fisica'].value_counts()"
   ]
  },
  {
   "cell_type": "code",
   "execution_count": 100,
   "id": "33b6fc8c",
   "metadata": {},
   "outputs": [],
   "source": [
    "# Calcule o total de observações\n",
    "total_observacoes = frequencia_niveis.sum()"
   ]
  },
  {
   "cell_type": "code",
   "execution_count": 101,
   "id": "0112b612",
   "metadata": {},
   "outputs": [
    {
     "name": "stdout",
     "output_type": "stream",
     "text": [
      "60.0    0.353344\n",
      "59.0    0.132420\n",
      "19.0    0.122083\n",
      "29.0    0.107695\n",
      "39.0    0.107010\n",
      "9.0     0.095960\n",
      "49.0    0.081487\n",
      "Name: tempo_atividade_fisica, dtype: float64\n"
     ]
    }
   ],
   "source": [
    "# Calcule a probabilidade para cada nível de escolaridade\n",
    "probabilidades = frequencia_niveis / total_observacoes\n",
    "\n",
    "# Print das probabilidades\n",
    "print(probabilidades)"
   ]
  },
  {
   "cell_type": "code",
   "execution_count": 102,
   "id": "e5908ae8",
   "metadata": {},
   "outputs": [],
   "source": [
    "# Vamos criar uma lista com os possíveis categorias de tempo gasto com atividade física\n",
    "tempo_em_atividade_fisica = [9, 19, 29, 39, 49, 59, 60]"
   ]
  },
  {
   "cell_type": "code",
   "execution_count": 103,
   "id": "6922dc9e",
   "metadata": {},
   "outputs": [],
   "source": [
    "# Vamos definir as probabilidades de cada faixa de tempo \n",
    "probabilidades = [0.09, 0.12, 0.10, 0.10, 0.08, 0.14, 0.37]"
   ]
  },
  {
   "cell_type": "code",
   "execution_count": 104,
   "id": "654162e2",
   "metadata": {},
   "outputs": [
    {
     "data": {
      "text/plain": [
       "count    159245.000000\n",
       "mean         38.565933\n",
       "std          16.535595\n",
       "min           9.000000\n",
       "25%          29.000000\n",
       "50%          29.000000\n",
       "75%          59.000000\n",
       "max          60.000000\n",
       "Name: tempo_atividade_fisica, dtype: float64"
      ]
     },
     "execution_count": 104,
     "metadata": {},
     "output_type": "execute_result"
    }
   ],
   "source": [
    "# Substitua os missings com base nas probabilidades\n",
    "df['tempo_atividade_fisica'].fillna(np.random.choice(tempo_em_atividade_fisica, p=probabilidades), inplace=True)\n",
    "\n",
    "# Agora, 'Tempo de educação física' está preenchida com os valores respeitando a distribuição de probabilidade\n",
    "# Verifique a distribuição após o preenchimento\n",
    "df['tempo_atividade_fisica'].describe()"
   ]
  },
  {
   "cell_type": "code",
   "execution_count": 105,
   "id": "dbb030d9",
   "metadata": {},
   "outputs": [
    {
     "name": "stdout",
     "output_type": "stream",
     "text": [
      "<class 'pandas.core.series.Series'>\n",
      "Int64Index: 159245 entries, 0 to 165837\n",
      "Series name: qtde_adequada_exercicio\n",
      "Non-Null Count   Dtype\n",
      "--------------   -----\n",
      "159245 non-null  int32\n",
      "dtypes: int32(1)\n",
      "memory usage: 1.8 MB\n"
     ]
    }
   ],
   "source": [
    "# Agora quero saber se o aluno conseguiu praticar pelo menos 60 min por dia.\n",
    "# Crie a coluna 'Quantidade adequada de exercício' com base nas condições\n",
    "df['qtde_adequada_exercicio'] = ((df['exercicio_todo_dia'] == 1) & \n",
    "                                (df['tempo_atividade_fisica'] + df['tempo_ed_fisica'] >= 60)).astype(int)\n",
    "\n",
    "df['qtde_adequada_exercicio'].info()"
   ]
  },
  {
   "cell_type": "markdown",
   "id": "ee3bd120",
   "metadata": {},
   "source": [
    "## Uso de cigarro, bebida e drogas - B4, B5 e B6"
   ]
  },
  {
   "cell_type": "code",
   "execution_count": 106,
   "id": "a8e163c6",
   "metadata": {},
   "outputs": [
    {
     "data": {
      "text/plain": [
       "-2.0        99\n",
       "-1.0    130379\n",
       " 1.0     20383\n",
       " 2.0      4086\n",
       " 3.0      1286\n",
       " 4.0       739\n",
       " 5.0       750\n",
       " 6.0       432\n",
       " 7.0      1007\n",
       " 9.0        84\n",
       "Name: B04003, dtype: int64"
      ]
     },
     "execution_count": 106,
     "metadata": {},
     "output_type": "execute_result"
    }
   ],
   "source": [
    "# Coluna com a informação sobre consumo de cigarro nos últimos 30 dias\n",
    "df['B04003'].value_counts().sort_index(ascending = True)"
   ]
  },
  {
   "cell_type": "code",
   "execution_count": 107,
   "id": "f67b6e77",
   "metadata": {},
   "outputs": [
    {
     "data": {
      "text/plain": [
       "-2.0        95\n",
       "-1.0     25689\n",
       " 1.0     28771\n",
       " 2.0    104550\n",
       " 9.0       140\n",
       "Name: B04001, dtype: int64"
      ]
     },
     "execution_count": 107,
     "metadata": {},
     "output_type": "execute_result"
    }
   ],
   "source": [
    "# Informação sobre ter usado cigarro alguma vez na vida\n",
    "df['B04001'].value_counts().sort_index(ascending = True) "
   ]
  },
  {
   "cell_type": "code",
   "execution_count": 115,
   "id": "39bae055",
   "metadata": {},
   "outputs": [
    {
     "data": {
      "text/plain": [
       "0    158238\n",
       "1      1007\n",
       "Name: fumante_regular, dtype: int64"
      ]
     },
     "execution_count": 115,
     "metadata": {},
     "output_type": "execute_result"
    }
   ],
   "source": [
    "# No questionário, primeiro tem a pergunta sobre ter fumado cigarro alguma vez na vida.\n",
    "# E para quem respondeu NÃO é dito para pular o questionário, por isso  esses valores nas colunas B04001 E B04003\n",
    "# Vou trabalhar com uma dummy que me diz se o aluno fumou todos os dias nos últimos trinta dias.\n",
    "df['fumante_regular'] = df['B04003'].apply(lambda x: 1 if x == 7 else 0)\n",
    "df['fumante_regular'].value_counts()"
   ]
  },
  {
   "cell_type": "code",
   "execution_count": 116,
   "id": "088dfa00",
   "metadata": {},
   "outputs": [
    {
     "data": {
      "text/plain": [
       "-2.0       116\n",
       "-1.0     25689\n",
       " 1.0    104864\n",
       " 2.0     14194\n",
       " 3.0      7819\n",
       " 4.0      4063\n",
       " 5.0      2323\n",
       " 9.0       177\n",
       "Name: B04006B, dtype: int64"
      ]
     },
     "execution_count": 116,
     "metadata": {},
     "output_type": "execute_result"
    }
   ],
   "source": [
    "# Informação sobre pai e/ou mãe fumante.\n",
    "df['B04006B'].value_counts().sort_index(ascending = True)"
   ]
  },
  {
   "cell_type": "code",
   "execution_count": 117,
   "id": "7a7b3607",
   "metadata": {},
   "outputs": [
    {
     "data": {
      "text/plain": [
       "0    145051\n",
       "1     14194\n",
       "Name: pai_fumante, dtype: int64"
      ]
     },
     "execution_count": 117,
     "metadata": {},
     "output_type": "execute_result"
    }
   ],
   "source": [
    "# Três dummies: só o pai fuma / só a mãe fuma / os dois fumam\n",
    "df['pai_fumante'] = df['B04006B'].apply(lambda x: 1 if x == 2 else 0)\n",
    "df['pai_fumante'].value_counts()"
   ]
  },
  {
   "cell_type": "code",
   "execution_count": 118,
   "id": "fcd15086",
   "metadata": {},
   "outputs": [
    {
     "data": {
      "text/plain": [
       "0    151426\n",
       "1      7819\n",
       "Name: mae_fumante, dtype: int64"
      ]
     },
     "execution_count": 118,
     "metadata": {},
     "output_type": "execute_result"
    }
   ],
   "source": [
    "df['mae_fumante'] = df['B04006B'].apply(lambda x: 1 if x == 3 else 0)\n",
    "df['mae_fumante'].value_counts()"
   ]
  },
  {
   "cell_type": "code",
   "execution_count": 111,
   "id": "84dbb654",
   "metadata": {},
   "outputs": [
    {
     "data": {
      "text/plain": [
       "-2.0       145\n",
       "-1.0     25689\n",
       " 1.0     17115\n",
       " 2.0    115996\n",
       " 9.0       300\n",
       "Name: B06001, dtype: int64"
      ]
     },
     "execution_count": 111,
     "metadata": {},
     "output_type": "execute_result"
    }
   ],
   "source": []
  },
  {
   "cell_type": "code",
   "execution_count": 112,
   "id": "4d8cb6fe",
   "metadata": {},
   "outputs": [
    {
     "data": {
      "text/plain": [
       "-2.0       145\n",
       "-1.0    141985\n",
       " 1.0     10480\n",
       " 2.0      3377\n",
       " 3.0      1206\n",
       " 4.0       553\n",
       " 5.0      1451\n",
       " 9.0        48\n",
       "Name: B06003B, dtype: int64"
      ]
     },
     "execution_count": 112,
     "metadata": {},
     "output_type": "execute_result"
    }
   ],
   "source": []
  },
  {
   "cell_type": "code",
   "execution_count": null,
   "id": "20f5bedf",
   "metadata": {},
   "outputs": [],
   "source": []
  }
 ],
 "metadata": {
  "kernelspec": {
   "display_name": "Python 3 (ipykernel)",
   "language": "python",
   "name": "python3"
  },
  "language_info": {
   "codemirror_mode": {
    "name": "ipython",
    "version": 3
   },
   "file_extension": ".py",
   "mimetype": "text/x-python",
   "name": "python",
   "nbconvert_exporter": "python",
   "pygments_lexer": "ipython3",
   "version": "3.10.9"
  }
 },
 "nbformat": 4,
 "nbformat_minor": 5
}
